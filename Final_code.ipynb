{
  "nbformat": 4,
  "nbformat_minor": 0,
  "metadata": {
    "colab": {
      "provenance": []
    },
    "kernelspec": {
      "name": "python3",
      "display_name": "Python 3"
    },
    "language_info": {
      "name": "python"
    }
  },
  "cells": [
    {
      "cell_type": "code",
      "execution_count": null,
      "metadata": {
        "id": "uoBeEe039N7t"
      },
      "outputs": [],
      "source": [
        "import pandas as pd\n",
        "from sklearn.model_selection import train_test_split\n",
        "from sklearn.preprocessing import StandardScaler\n",
        "from sklearn.ensemble import RandomForestRegressor\n",
        "from sklearn.metrics import mean_absolute_error, mean_squared_error, r2_score\n",
        "\n",
        "# Load the datasets\n",
        "df_20_21 = pd.read_excel(\"Premier league 20_21.xlsx\")  # Load premier league validation dataset\n",
        "df_21_22 = pd.read_excel(\"Premier league 21_22.xlsx\")\n",
        "df_22_23 = pd.read_excel(\"Premier league 22_23.xlsx\")\n",
        "df_23_24 = pd.read_excel(\"Premier league 23_24.xlsx\")"
      ]
    },
    {
      "cell_type": "code",
      "source": [
        "# Combine Premier League datasets for training and testing\n",
        "df = pd.concat([df_21_22, df_22_23, df_23_24], ignore_index=True)"
      ],
      "metadata": {
        "id": "Ck6ULILqB5SP"
      },
      "execution_count": null,
      "outputs": []
    },
    {
      "cell_type": "code",
      "source": [
        "# Select relevant columns\n",
        "selected_columns = [\n",
        "    'FTHG', 'FTAG', 'HTHG', 'HTAG',             # Goals scored (full-time and halftime)\n",
        "    'B365H', 'B365D', 'B365A',                  # Bet365 odds for home win, draw, away win\n",
        "    'IWH', 'IWD', 'IWA',                        # Alternative odds for win, draw, and loss\n",
        "    'AHCh',                                     # Asian Handicap for home win\n",
        "    'B365CAHH', 'B365CAHA',                     # Asian Handicap betting odds from Bet365\n",
        "    'P>2.5', 'P<2.5',                           # Probability of over/under 2.5 goals\n",
        "    'FTR'                                       # Target variable: Full-Time Result\n",
        "]\n"
      ],
      "metadata": {
        "id": "jgrYawvtB9KC"
      },
      "execution_count": null,
      "outputs": []
    },
    {
      "cell_type": "code",
      "source": [
        "# Filter the training data\n",
        "df = df[selected_columns]"
      ],
      "metadata": {
        "id": "Embi1ADOB_8s"
      },
      "execution_count": null,
      "outputs": []
    },
    {
      "cell_type": "code",
      "source": [
        "# Handle missing values\n",
        "missing_value_threshold = 0.3\n",
        "for column in df.columns:\n",
        "    if df[column].isnull().mean() > missing_value_threshold:\n",
        "        df.drop(column, axis=1, inplace=True)\n",
        "df.fillna(df.mean(numeric_only=True), inplace=True)"
      ],
      "metadata": {
        "id": "BcGlTOJACHAV"
      },
      "execution_count": null,
      "outputs": []
    },
    {
      "cell_type": "code",
      "source": [
        "# Add a TotalGoals column for the target variable\n",
        "df['TotalGoals'] = df['FTHG'] + df['FTAG']\n",
        "target = df['TotalGoals']\n",
        "features = df.drop(columns=['TotalGoals', 'FTR'])  # Drop non-relevant columns for training"
      ],
      "metadata": {
        "id": "DGgaGzlPCKBu"
      },
      "execution_count": null,
      "outputs": []
    },
    {
      "cell_type": "code",
      "source": [
        "# Process Bundesliga validation dataset\n",
        "df_20_21 = df_20_21[selected_columns]  # Ensure the same columns are present\n",
        "df_20_21.fillna(df_20_21.mean(numeric_only=True), inplace=True)\n",
        "df_20_21['TotalGoals'] = df_20_21['FTHG'] + df_20_21['FTAG']  # Add TotalGoals column\n",
        "validation_features = df_20_21.drop(columns=['TotalGoals', 'FTR'])\n",
        "validation_target = df_20_21['TotalGoals']"
      ],
      "metadata": {
        "colab": {
          "base_uri": "https://localhost:8080/"
        },
        "id": "wa1LYOJjCMey",
        "outputId": "e253af8d-4bb9-474d-af29-10950198e5ef"
      },
      "execution_count": null,
      "outputs": [
        {
          "output_type": "stream",
          "name": "stderr",
          "text": [
            "<ipython-input-8-0f33d507a4f5>:3: SettingWithCopyWarning: \n",
            "A value is trying to be set on a copy of a slice from a DataFrame\n",
            "\n",
            "See the caveats in the documentation: https://pandas.pydata.org/pandas-docs/stable/user_guide/indexing.html#returning-a-view-versus-a-copy\n",
            "  df_20_21.fillna(df_20_21.mean(numeric_only=True), inplace=True)\n",
            "<ipython-input-8-0f33d507a4f5>:4: SettingWithCopyWarning: \n",
            "A value is trying to be set on a copy of a slice from a DataFrame.\n",
            "Try using .loc[row_indexer,col_indexer] = value instead\n",
            "\n",
            "See the caveats in the documentation: https://pandas.pydata.org/pandas-docs/stable/user_guide/indexing.html#returning-a-view-versus-a-copy\n",
            "  df_20_21['TotalGoals'] = df_20_21['FTHG'] + df_20_21['FTAG']  # Add TotalGoals column\n"
          ]
        }
      ]
    },
    {
      "cell_type": "code",
      "source": [
        "# Split the Premier League data into training and testing sets\n",
        "X_train, X_test, y_train, y_test = train_test_split(features, target, test_size=0.2, random_state=42)"
      ],
      "metadata": {
        "id": "Ms5vwKQ3CUxT"
      },
      "execution_count": null,
      "outputs": []
    },
    {
      "cell_type": "code",
      "source": [
        "# Scale the features\n",
        "scaler = StandardScaler()\n",
        "X_train = scaler.fit_transform(X_train)\n",
        "X_test = scaler.transform(X_test)\n",
        "validation_features = scaler.transform(validation_features)  # Scale validation data"
      ],
      "metadata": {
        "id": "3qDsMfAQCXp3"
      },
      "execution_count": null,
      "outputs": []
    },
    {
      "cell_type": "code",
      "source": [
        "# Train the Random Forest Regressor\n",
        "model = RandomForestRegressor(n_estimators=100, random_state=42)\n",
        "model.fit(X_train, y_train)\n",
        "\n",
        "# Make predictions\n",
        "y_pred_test = model.predict(X_test)\n",
        "y_pred_validation = model.predict(validation_features)"
      ],
      "metadata": {
        "id": "jsxaVkOtCawV"
      },
      "execution_count": null,
      "outputs": []
    },
    {
      "cell_type": "code",
      "source": [
        "# Evaluate model performance\n",
        "print(\"Evaluation on Test Data:\")\n",
        "print(\"Mean Absolute Error:\", mean_absolute_error(y_test, y_pred_test))\n",
        "print(\"Mean Squared Error:\", mean_squared_error(y_test, y_pred_test))\n",
        "print(\"R^2 Score:\", r2_score(y_test, y_pred_test))\n",
        "\n",
        "print(\"\\nEvaluation on Validation Data (Bundesliga 20-21):\")\n",
        "print(\"Mean Absolute Error:\", mean_absolute_error(validation_target, y_pred_validation))\n",
        "print(\"Mean Squared Error:\", mean_squared_error(validation_target, y_pred_validation))\n",
        "print(\"R^2 Score:\", r2_score(validation_target, y_pred_validation))"
      ],
      "metadata": {
        "colab": {
          "base_uri": "https://localhost:8080/"
        },
        "id": "HF9vAH9SCdPZ",
        "outputId": "e9318d95-574c-4dda-a740-a71c6d198fe8"
      },
      "execution_count": null,
      "outputs": [
        {
          "output_type": "stream",
          "name": "stdout",
          "text": [
            "Evaluation on Test Data:\n",
            "Mean Absolute Error: 0.02026315789473682\n",
            "Mean Squared Error: 0.009473684210526313\n",
            "R^2 Score: 0.9964423382552663\n",
            "\n",
            "Evaluation on Validation Data (Bundesliga 20-21):\n",
            "Mean Absolute Error: 0.030473684210526302\n",
            "Mean Squared Error: 0.023902631578947363\n",
            "R^2 Score: 0.9922273816386827\n"
          ]
        }
      ]
    }
  ]
}